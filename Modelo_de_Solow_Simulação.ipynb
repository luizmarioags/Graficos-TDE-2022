{
  "nbformat": 4,
  "nbformat_minor": 0,
  "metadata": {
    "colab": {
      "name": "Modelo de Solow_Simulação.ipynb",
      "provenance": [],
      "collapsed_sections": [],
      "authorship_tag": "ABX9TyMRsiYpKRKgKJMq8zoPkh+9"
    },
    "kernelspec": {
      "name": "python3",
      "display_name": "Python 3"
    },
    "language_info": {
      "name": "python"
    }
  },
  "cells": [
    {
      "cell_type": "markdown",
      "source": [
        "## O Modelo de Solow \n",
        "Primeiramente antes de entrarmos no programa e na simulação em si, precisamos definir quais são os parâmetros do modelo de Solow e explicar cada um. \n",
        "\n",
        "A equação fundamental do modelo de solow é:\n",
        "\\begin{equation}\n",
        "k' = sf(k) - [\\delta + \\mu]k\n",
        "\\end{equation}\n",
        "Em que $f(k)$ pode ser descrito como o PIB per Capita, ou no termo matematico adequado $y$. \n",
        "\n",
        "$s$ é a nossa propensão marginal a poupar.\n",
        "\n",
        "$\\delta$ é a depreciação \n",
        "\n",
        "$\\mu$ é a taxa de crescimento populacional \n",
        "\n",
        "E por fim, $k$ é o capital per capita e $k'$ é a sua variação."
      ],
      "metadata": {
        "id": "P26b9aF0CdKL"
      }
    },
    {
      "cell_type": "markdown",
      "source": [
        "Teoricamente, o modelo de Solow se refere ao modelo Mainstream, ou Ortodoxo, de crescimento. Tendo como base principalmente uma função de produção, no modelo simulado tratamos como uma função que só possui dois insumos, ou fatores de produção. o Capital e o Trabalho. "
      ],
      "metadata": {
        "id": "g7vNqA88gG3Z"
      }
    },
    {
      "cell_type": "markdown",
      "source": [
        "Esse modelo busca principalmente, e aqui é também o objetivo dessa simulação em compreender a trajetória do Capital per Capita, a variável que explica o desempenho da Renda per Capita."
      ],
      "metadata": {
        "id": "wETYssVkgm9o"
      }
    },
    {
      "cell_type": "code",
      "execution_count": 34,
      "metadata": {
        "id": "FwoAGeKHCPx8"
      },
      "outputs": [],
      "source": [
        "# Importando as bibliotecas necessárias\n",
        "import pandas as pd \n",
        "import numpy as np \n",
        "import matplotlib.pyplot as plt \n",
        "import seaborn as sns"
      ]
    },
    {
      "cell_type": "markdown",
      "source": [
        "Nosso objetivo com essa simulação é encontrar o $k_{ss}$, isto é, o nosso $k$ do estado estacionário que ocorre quando $k' = 0$. Econtrando o $k_{ss}$ compreendemos melhor a trajetória de $k$.\n",
        "\n",
        "Para isso, iremos definir como tempo inicial o tempo $t_{0} = 0$ e fazer ele para um horizonte muito longo, com o tempo final $t = 300$. Assim podemos definir nossas variáveis como:\n",
        "\n",
        "\n",
        "*   Taxa de Variação do $k$, isso é, $k'$:\n",
        "\\begin{equation} \n",
        "k' = ys -[\\delta + \\mu]k\n",
        "\\end{equation}\n",
        "\n",
        "*   O $f(k)$, o nosso produto $y$: \n",
        "\\begin{equation}\n",
        "y = Ak^{\\alpha}\n",
        "\\end{equation}\n",
        "\n",
        "*   O consumo $C$: \n",
        "\\begin{equation}\n",
        "C = y(1 - s)\n",
        "\\end{equation}\n",
        "\n",
        "\n",
        "*   A poupança $S$:\n",
        "\\begin{equation}\n",
        "S = ys\n",
        "\\end{equation}\n",
        "\n"
      ],
      "metadata": {
        "id": "l_4tCmtBGAaZ"
      }
    },
    {
      "cell_type": "markdown",
      "source": [
        "## Primeiramente, iremos fazer nossa simulação para os parâmetros $A$, $s$ e $k$, $\\delta$ e $\\mu$  definidos previamente. "
      ],
      "metadata": {
        "id": "6tQv16zLIoW6"
      }
    },
    {
      "cell_type": "code",
      "source": [
        "# Definindo os parâmetros \n",
        "A = 60 #Produtividade total dos fatores\n",
        "s = 0.15 #Propensão marginal a poupar \n",
        "delta = 0.08 #Depreciação \n",
        "mu = 0.1 # Taxa de Crescimento Populacional\n",
        "alfa = 0.3"
      ],
      "metadata": {
        "id": "UhDptJs8CZDT"
      },
      "execution_count": 35,
      "outputs": []
    },
    {
      "cell_type": "code",
      "source": [
        "#Criando matrizes e arrays para as variáveis \n",
        "# Array do Tempo\n",
        "Tempo = np.array(np.arange(0,301)) #Essa operação cria um array em uma operação que vai de 0 até o tempo final em um passso de um a um\n",
        "\n",
        "# Inicialmente criaremos uma matriz de zeros para cada componente da simulação, iremos preencher elas com suas operações no bloco seguinte\n",
        "\n",
        "# Matriz do k \n",
        "k = np.zeros([301,1],float)\n",
        "# Matriz do y \n",
        "y = np.zeros([301,1],float)\n",
        "# Matriz do c\n",
        "C = np.zeros([301,1],float)\n",
        "# Matriz do S\n",
        "S = np.zeros([301,1],float)\n",
        "# Matriz da Variação do k\n",
        "Variacao_k = np.zeros([301,1],float)"
      ],
      "metadata": {
        "id": "YK2d33tX0P-N"
      },
      "execution_count": 36,
      "outputs": []
    },
    {
      "cell_type": "code",
      "source": [
        "# Com as matrizes definidas, podemos preencher elas usando loops for \n",
        "for x in range(0,301):                                     # Loop geral para as operações, esse loop coordena que todas elas operem para cada valor do i\n",
        "  for i in range(0,300):                                   \n",
        "    k[i] = 50.0                                            #Configurando o nosso k inicial para 50\n",
        "    k_novo = np.copy(k)                                    #criando uma nova matriz copiada da matriz com o k inicial correto\n",
        "  for i in range(1,301):                                   #Como o zero já esta definido, aqui iniciamos a partir do 1\n",
        "    k_novo[i] = k[i-1] + Variacao_k[i-1]                   #Usando a nova matriz criada anteriormente e aplicando os novos valores \n",
        "    k = np.copy(k_novo)                                    #voltando para a matriz k \n",
        "# Loop para definir a variação do k \n",
        "  for i in range(0,301):\n",
        "    Variacao_k[i] = y[i]*s - (delta + mu)*k[i]\n",
        "# Loop para definir o y \n",
        "  for i in range(0,301):\n",
        "    y[i] = A*(np.power(k[i],alfa))\n",
        "# Loop para definir o C \n",
        "  for i in range(0,301):\n",
        "    C[i] = y[i]*(1 - s)\n",
        "# Loop para definir o S\n",
        "  for i in range(0,301):\n",
        "    S[i] = y[i]*s"
      ],
      "metadata": {
        "id": "g9YNSRXt9aQ6"
      },
      "execution_count": 38,
      "outputs": []
    },
    {
      "cell_type": "code",
      "source": [
        "# Transformando todas as nossas varíaveis calculadas antes em arrays \n",
        "k = np.array(k)\n",
        "y = np.array(y)\n",
        "C = np.array(C)\n",
        "S = np.array(S)\n",
        "Variacao_k = np.array(Variacao_k)\n",
        "print(k.ndim)"
      ],
      "metadata": {
        "colab": {
          "base_uri": "https://localhost:8080/"
        },
        "id": "9gGyPwmFL_bU",
        "outputId": "8fc3a232-e364-49ff-ec08-d828cccd8fc4"
      },
      "execution_count": 39,
      "outputs": [
        {
          "output_type": "stream",
          "name": "stdout",
          "text": [
            "2\n"
          ]
        }
      ]
    },
    {
      "cell_type": "code",
      "source": [
        "# Como nossos arrays são bidimensionais precisamos fazer um reshape de 2D para 1D\n",
        "# Usando o comando reshape \n",
        "k = np.reshape(k,301)\n",
        "y = np.reshape(y,301)\n",
        "C = np.reshape(C,301)\n",
        "S = np.reshape(S,301)\n",
        "Variacao_k = np.reshape(Variacao_k,301)"
      ],
      "metadata": {
        "id": "AMjlQ18smq5W"
      },
      "execution_count": 40,
      "outputs": []
    },
    {
      "cell_type": "code",
      "source": [
        "# Criando o dataframe com um dicionário para as colunas já definidas\n",
        "data_modelo_Solow = pd.DataFrame(index = Tempo)\n",
        "data_modelo_Solow[\"Tempo\"] = pd.Series(Tempo)\n",
        "data_modelo_Solow[\"k\"] = pd.Series(k)\n",
        "data_modelo_Solow[\"y\"] = pd.Series(y)\n",
        "data_modelo_Solow[\"C\"] = pd.Series(C)\n",
        "data_modelo_Solow[\"S\"] = pd.Series(S)\n",
        "data_modelo_Solow[\"Taxa de Variação do K\"] = pd.Series(Variacao_k)\n",
        "data_modelo_Solow"
      ],
      "metadata": {
        "colab": {
          "base_uri": "https://localhost:8080/",
          "height": 424
        },
        "id": "lBsOSlZ8dmMx",
        "outputId": "844417f3-ec57-4fc2-939d-a477a54ddc74"
      },
      "execution_count": 41,
      "outputs": [
        {
          "output_type": "execute_result",
          "data": {
            "text/plain": [
              "     Tempo           k           y           C          S  \\\n",
              "0        0   50.000000  194.018102  164.915387  29.102715   \n",
              "1        1   70.102715  214.719606  182.511665  32.207941   \n",
              "2        2   89.692167  231.194557  196.515374  34.679184   \n",
              "3        3  108.226761  244.597294  207.907700  36.689594   \n",
              "4        4  125.435538  255.668621  217.318328  38.350293   \n",
              "..     ...         ...         ...         ...        ...   \n",
              "296    296  267.362200  320.834640  272.709444  48.125196   \n",
              "297    297  267.362200  320.834640  272.709444  48.125196   \n",
              "298    298  267.362200  320.834640  272.709444  48.125196   \n",
              "299    299  267.362200  320.834640  272.709444  48.125196   \n",
              "300    300  267.362200  320.834640  272.709444  48.125196   \n",
              "\n",
              "     Taxa de Variação do K  \n",
              "0             2.010272e+01  \n",
              "1             1.958945e+01  \n",
              "2             1.853459e+01  \n",
              "3             1.720878e+01  \n",
              "4             1.577190e+01  \n",
              "..                     ...  \n",
              "296           2.131628e-14  \n",
              "297           2.131628e-14  \n",
              "298           2.131628e-14  \n",
              "299           2.131628e-14  \n",
              "300           2.131628e-14  \n",
              "\n",
              "[301 rows x 6 columns]"
            ],
            "text/html": [
              "\n",
              "  <div id=\"df-da1e563c-0aa0-401f-8830-9e75f153a236\">\n",
              "    <div class=\"colab-df-container\">\n",
              "      <div>\n",
              "<style scoped>\n",
              "    .dataframe tbody tr th:only-of-type {\n",
              "        vertical-align: middle;\n",
              "    }\n",
              "\n",
              "    .dataframe tbody tr th {\n",
              "        vertical-align: top;\n",
              "    }\n",
              "\n",
              "    .dataframe thead th {\n",
              "        text-align: right;\n",
              "    }\n",
              "</style>\n",
              "<table border=\"1\" class=\"dataframe\">\n",
              "  <thead>\n",
              "    <tr style=\"text-align: right;\">\n",
              "      <th></th>\n",
              "      <th>Tempo</th>\n",
              "      <th>k</th>\n",
              "      <th>y</th>\n",
              "      <th>C</th>\n",
              "      <th>S</th>\n",
              "      <th>Taxa de Variação do K</th>\n",
              "    </tr>\n",
              "  </thead>\n",
              "  <tbody>\n",
              "    <tr>\n",
              "      <th>0</th>\n",
              "      <td>0</td>\n",
              "      <td>50.000000</td>\n",
              "      <td>194.018102</td>\n",
              "      <td>164.915387</td>\n",
              "      <td>29.102715</td>\n",
              "      <td>2.010272e+01</td>\n",
              "    </tr>\n",
              "    <tr>\n",
              "      <th>1</th>\n",
              "      <td>1</td>\n",
              "      <td>70.102715</td>\n",
              "      <td>214.719606</td>\n",
              "      <td>182.511665</td>\n",
              "      <td>32.207941</td>\n",
              "      <td>1.958945e+01</td>\n",
              "    </tr>\n",
              "    <tr>\n",
              "      <th>2</th>\n",
              "      <td>2</td>\n",
              "      <td>89.692167</td>\n",
              "      <td>231.194557</td>\n",
              "      <td>196.515374</td>\n",
              "      <td>34.679184</td>\n",
              "      <td>1.853459e+01</td>\n",
              "    </tr>\n",
              "    <tr>\n",
              "      <th>3</th>\n",
              "      <td>3</td>\n",
              "      <td>108.226761</td>\n",
              "      <td>244.597294</td>\n",
              "      <td>207.907700</td>\n",
              "      <td>36.689594</td>\n",
              "      <td>1.720878e+01</td>\n",
              "    </tr>\n",
              "    <tr>\n",
              "      <th>4</th>\n",
              "      <td>4</td>\n",
              "      <td>125.435538</td>\n",
              "      <td>255.668621</td>\n",
              "      <td>217.318328</td>\n",
              "      <td>38.350293</td>\n",
              "      <td>1.577190e+01</td>\n",
              "    </tr>\n",
              "    <tr>\n",
              "      <th>...</th>\n",
              "      <td>...</td>\n",
              "      <td>...</td>\n",
              "      <td>...</td>\n",
              "      <td>...</td>\n",
              "      <td>...</td>\n",
              "      <td>...</td>\n",
              "    </tr>\n",
              "    <tr>\n",
              "      <th>296</th>\n",
              "      <td>296</td>\n",
              "      <td>267.362200</td>\n",
              "      <td>320.834640</td>\n",
              "      <td>272.709444</td>\n",
              "      <td>48.125196</td>\n",
              "      <td>2.131628e-14</td>\n",
              "    </tr>\n",
              "    <tr>\n",
              "      <th>297</th>\n",
              "      <td>297</td>\n",
              "      <td>267.362200</td>\n",
              "      <td>320.834640</td>\n",
              "      <td>272.709444</td>\n",
              "      <td>48.125196</td>\n",
              "      <td>2.131628e-14</td>\n",
              "    </tr>\n",
              "    <tr>\n",
              "      <th>298</th>\n",
              "      <td>298</td>\n",
              "      <td>267.362200</td>\n",
              "      <td>320.834640</td>\n",
              "      <td>272.709444</td>\n",
              "      <td>48.125196</td>\n",
              "      <td>2.131628e-14</td>\n",
              "    </tr>\n",
              "    <tr>\n",
              "      <th>299</th>\n",
              "      <td>299</td>\n",
              "      <td>267.362200</td>\n",
              "      <td>320.834640</td>\n",
              "      <td>272.709444</td>\n",
              "      <td>48.125196</td>\n",
              "      <td>2.131628e-14</td>\n",
              "    </tr>\n",
              "    <tr>\n",
              "      <th>300</th>\n",
              "      <td>300</td>\n",
              "      <td>267.362200</td>\n",
              "      <td>320.834640</td>\n",
              "      <td>272.709444</td>\n",
              "      <td>48.125196</td>\n",
              "      <td>2.131628e-14</td>\n",
              "    </tr>\n",
              "  </tbody>\n",
              "</table>\n",
              "<p>301 rows × 6 columns</p>\n",
              "</div>\n",
              "      <button class=\"colab-df-convert\" onclick=\"convertToInteractive('df-da1e563c-0aa0-401f-8830-9e75f153a236')\"\n",
              "              title=\"Convert this dataframe to an interactive table.\"\n",
              "              style=\"display:none;\">\n",
              "        \n",
              "  <svg xmlns=\"http://www.w3.org/2000/svg\" height=\"24px\"viewBox=\"0 0 24 24\"\n",
              "       width=\"24px\">\n",
              "    <path d=\"M0 0h24v24H0V0z\" fill=\"none\"/>\n",
              "    <path d=\"M18.56 5.44l.94 2.06.94-2.06 2.06-.94-2.06-.94-.94-2.06-.94 2.06-2.06.94zm-11 1L8.5 8.5l.94-2.06 2.06-.94-2.06-.94L8.5 2.5l-.94 2.06-2.06.94zm10 10l.94 2.06.94-2.06 2.06-.94-2.06-.94-.94-2.06-.94 2.06-2.06.94z\"/><path d=\"M17.41 7.96l-1.37-1.37c-.4-.4-.92-.59-1.43-.59-.52 0-1.04.2-1.43.59L10.3 9.45l-7.72 7.72c-.78.78-.78 2.05 0 2.83L4 21.41c.39.39.9.59 1.41.59.51 0 1.02-.2 1.41-.59l7.78-7.78 2.81-2.81c.8-.78.8-2.07 0-2.86zM5.41 20L4 18.59l7.72-7.72 1.47 1.35L5.41 20z\"/>\n",
              "  </svg>\n",
              "      </button>\n",
              "      \n",
              "  <style>\n",
              "    .colab-df-container {\n",
              "      display:flex;\n",
              "      flex-wrap:wrap;\n",
              "      gap: 12px;\n",
              "    }\n",
              "\n",
              "    .colab-df-convert {\n",
              "      background-color: #E8F0FE;\n",
              "      border: none;\n",
              "      border-radius: 50%;\n",
              "      cursor: pointer;\n",
              "      display: none;\n",
              "      fill: #1967D2;\n",
              "      height: 32px;\n",
              "      padding: 0 0 0 0;\n",
              "      width: 32px;\n",
              "    }\n",
              "\n",
              "    .colab-df-convert:hover {\n",
              "      background-color: #E2EBFA;\n",
              "      box-shadow: 0px 1px 2px rgba(60, 64, 67, 0.3), 0px 1px 3px 1px rgba(60, 64, 67, 0.15);\n",
              "      fill: #174EA6;\n",
              "    }\n",
              "\n",
              "    [theme=dark] .colab-df-convert {\n",
              "      background-color: #3B4455;\n",
              "      fill: #D2E3FC;\n",
              "    }\n",
              "\n",
              "    [theme=dark] .colab-df-convert:hover {\n",
              "      background-color: #434B5C;\n",
              "      box-shadow: 0px 1px 3px 1px rgba(0, 0, 0, 0.15);\n",
              "      filter: drop-shadow(0px 1px 2px rgba(0, 0, 0, 0.3));\n",
              "      fill: #FFFFFF;\n",
              "    }\n",
              "  </style>\n",
              "\n",
              "      <script>\n",
              "        const buttonEl =\n",
              "          document.querySelector('#df-da1e563c-0aa0-401f-8830-9e75f153a236 button.colab-df-convert');\n",
              "        buttonEl.style.display =\n",
              "          google.colab.kernel.accessAllowed ? 'block' : 'none';\n",
              "\n",
              "        async function convertToInteractive(key) {\n",
              "          const element = document.querySelector('#df-da1e563c-0aa0-401f-8830-9e75f153a236');\n",
              "          const dataTable =\n",
              "            await google.colab.kernel.invokeFunction('convertToInteractive',\n",
              "                                                     [key], {});\n",
              "          if (!dataTable) return;\n",
              "\n",
              "          const docLinkHtml = 'Like what you see? Visit the ' +\n",
              "            '<a target=\"_blank\" href=https://colab.research.google.com/notebooks/data_table.ipynb>data table notebook</a>'\n",
              "            + ' to learn more about interactive tables.';\n",
              "          element.innerHTML = '';\n",
              "          dataTable['output_type'] = 'display_data';\n",
              "          await google.colab.output.renderOutput(dataTable, element);\n",
              "          const docLink = document.createElement('div');\n",
              "          docLink.innerHTML = docLinkHtml;\n",
              "          element.appendChild(docLink);\n",
              "        }\n",
              "      </script>\n",
              "    </div>\n",
              "  </div>\n",
              "  "
            ]
          },
          "metadata": {},
          "execution_count": 41
        }
      ]
    },
    {
      "cell_type": "code",
      "source": [
        "# Plotando o gráfico do k no decorrer do tempo \n",
        "sns.set()\n",
        "sns.set(rc={\"figure.figsize\":(10, 4)})\n",
        "sns.lineplot(data = data_modelo_Solow, x = 'Tempo', y = 'k', color = 'red', linewidth = 3, zorder = 2)\n",
        "plt.title('Simulação Computacional do k no Modelo de Solow em função do Tempo.\\nFeito por Luiz Mario.', loc='center')"
      ],
      "metadata": {
        "colab": {
          "base_uri": "https://localhost:8080/",
          "height": 333
        },
        "id": "9ixF_xBfob5W",
        "outputId": "34537e85-bbe9-47fb-efae-0506ced06068"
      },
      "execution_count": 25,
      "outputs": [
        {
          "output_type": "execute_result",
          "data": {
            "text/plain": [
              "Text(0.5, 1.0, 'Simulação Computacional do k no Modelo de Solow em função do Tempo.\\nFeito por Luiz Mario.')"
            ]
          },
          "metadata": {},
          "execution_count": 25
        },
        {
          "output_type": "display_data",
          "data": {
            "text/plain": [
              "<Figure size 720x288 with 1 Axes>"
            ],
            "image/png": "[encoded data removed]"
          },
          "metadata": {}
        }
      ]
    },
    {
      "cell_type": "code",
      "source": [
        "# Gráfico conjunto do y  \n",
        "sns.set()\n",
        "sns.set(rc={\"figure.figsize\":(10, 4)})\n",
        "sns.lineplot(data = data_modelo_Solow, x = 'Tempo', y = 'y', color = 'blue', linewidth = 3, zorder = 2)\n",
        "plt.title('Simulação Computacional do y no Modelo de Solow em função do Tempo.\\nFeito por Luiz Mario.', loc='center')"
      ],
      "metadata": {
        "colab": {
          "base_uri": "https://localhost:8080/",
          "height": 333
        },
        "id": "yZrm_qlupP5Y",
        "outputId": "ddb89cfd-8607-4f1a-9978-b92ba72a41e1"
      },
      "execution_count": 156,
      "outputs": [
        {
          "output_type": "execute_result",
          "data": {
            "text/plain": [
              "Text(0.5, 1.0, 'Simulação Computacional do y no Modelo de Solow em função do Tempo.\\nFeito por Luiz Mario.')"
            ]
          },
          "metadata": {},
          "execution_count": 156
        },
        {
          "output_type": "display_data",
          "data": {
            "text/plain": [
              "<Figure size 720x288 with 1 Axes>"
            ],
            "image/png": "[encoded data removed]"
          },
          "metadata": {}
        }
      ]
    },
    {
      "cell_type": "markdown",
      "source": [
        "## Brincando com choques na Poupança \n",
        "Para fazermos esses choques iremos alterar o valor da propensão marginal a poupar para 2 valores\n",
        "\n",
        "\n",
        "*   $s = 0,30$\n",
        "*   $s = 0,60$\n",
        "\n",
        "Nosso interesse aqui é verificar se ocorre a maximização do consumo quando $s = \\alpha$. Isto é chamado de Regra de Ouro do modelo de Solow, levando a um aumento do consumo no estado estacionário e assim a um aumento do bem-estar.\n",
        "\n"
      ],
      "metadata": {
        "id": "gbh4ybDeqL3c"
      }
    },
    {
      "cell_type": "markdown",
      "source": [
        "## $s = 0,30$"
      ],
      "metadata": {
        "id": "Gf_ysDjsrYW-"
      }
    },
    {
      "cell_type": "code",
      "source": [
        "# Definindo os parâmetros \n",
        "A = 60 #Produtividade total dos fatores\n",
        "s = 0.30 #Propensão marginal a poupar \n",
        "delta = 0.08 #Depreciação \n",
        "mu = 0.1 # Taxa de Crescimento Populacional\n",
        "alfa = 0.3"
      ],
      "metadata": {
        "id": "Cw4yswx5qOBb"
      },
      "execution_count": 72,
      "outputs": []
    },
    {
      "cell_type": "code",
      "source": [
        "#Criando matrizes e arrays para as variáveis \n",
        "# Array do Tempo\n",
        "Tempo = np.array(np.arange(0,301)) #Essa operação cria um array em uma operação que vai de 0 até o tempo final em um passso de um a um\n",
        "\n",
        "# Inicialmente criaremos uma matriz de zeros para cada componente da simulação, iremos preencher elas com suas operações no bloco seguinte\n",
        "\n",
        "# Matriz do k \n",
        "k = np.zeros([301,1],float)\n",
        "# Matriz do y \n",
        "y = np.zeros([301,1],float)\n",
        "# Matriz do c\n",
        "C = np.zeros([301,1],float)\n",
        "# Matriz do S\n",
        "S = np.zeros([301,1],float)\n",
        "# Matriz da Variação do k\n",
        "Variacao_k = np.zeros([301,1],float)"
      ],
      "metadata": {
        "id": "brpI-gu3rblo"
      },
      "execution_count": 73,
      "outputs": []
    },
    {
      "cell_type": "code",
      "source": [
        "# Com as matrizes definidas, podemos preencher elas usando loops for \n",
        "for x in range(0,301):                                     # Loop geral para as operações, esse loop coordena que todas elas operem para cada valor do i\n",
        "  for i in range(0,300):                                   \n",
        "    k[i] = 50.0                                            #Configurando o nosso k inicial para 50\n",
        "    k_novo = np.copy(k)                                    #criando uma nova matriz copiada da matriz com o k inicial correto\n",
        "  for i in range(1,301):                                   #Como o zero já esta definido, aqui iniciamos a partir do 1\n",
        "    k_novo[i] = k[i-1] + Variacao_k[i-1]                   #Usando a nova matriz criada anteriormente e aplicando os novos valores \n",
        "    k = np.copy(k_novo)                                    #voltando para a matriz k \n",
        "# Loop para definir a variação do k \n",
        "  for i in range(0,301):\n",
        "    Variacao_k[i] = y[i]*s - (delta + mu)*k[i]\n",
        "# Loop para definir o y \n",
        "  for i in range(0,301):\n",
        "    y[i] = A*(np.power(k[i],alfa))\n",
        "# Loop para definir o C \n",
        "  for i in range(0,301):\n",
        "    C[i] = y[i]*(1 - s)\n",
        "# Loop para definir o S\n",
        "  for i in range(0,301):\n",
        "    S[i] = y[i]*s"
      ],
      "metadata": {
        "id": "wRmgMtaKres7"
      },
      "execution_count": 75,
      "outputs": []
    },
    {
      "cell_type": "code",
      "source": [
        "# Transformando todas as nossas varíaveis calculadas antes em arrays \n",
        "k = np.array(k)\n",
        "y = np.array(y)\n",
        "C = np.array(C)\n",
        "S = np.array(S)\n",
        "Variacao_k = np.array(Variacao_k)\n",
        "print(k.ndim)"
      ],
      "metadata": {
        "colab": {
          "base_uri": "https://localhost:8080/"
        },
        "id": "AGfxhaZbre18",
        "outputId": "20d5657b-80c5-4fef-f18b-dd8e5e30386b"
      },
      "execution_count": 76,
      "outputs": [
        {
          "output_type": "stream",
          "name": "stdout",
          "text": [
            "2\n"
          ]
        }
      ]
    },
    {
      "cell_type": "code",
      "source": [
        "# Como nossos arrays são bidimensionais precisamos fazer um reshape de 2D para 1D\n",
        "# Usando o comando reshape \n",
        "k = np.reshape(k,301)\n",
        "y = np.reshape(y,301)\n",
        "C = np.reshape(C,301)\n",
        "S = np.reshape(S,301)\n",
        "Variacao_k = np.reshape(Variacao_k,301)"
      ],
      "metadata": {
        "id": "Lmaiu5nCrfT3"
      },
      "execution_count": 77,
      "outputs": []
    },
    {
      "cell_type": "code",
      "source": [
        "# Criando o dataframe com um dicionário para as colunas já definidas\n",
        "data_modelo_Solow_choque_1 = pd.DataFrame(index = Tempo)\n",
        "data_modelo_Solow_choque_1[\"Tempo\"] = pd.Series(Tempo)\n",
        "data_modelo_Solow_choque_1[\"k\"] = pd.Series(k)\n",
        "data_modelo_Solow_choque_1[\"y\"] = pd.Series(y)\n",
        "data_modelo_Solow_choque_1[\"C\"] = pd.Series(C)\n",
        "data_modelo_Solow_choque_1[\"S\"] = pd.Series(S)\n",
        "data_modelo_Solow_choque_1[\"Taxa de Variação do K\"] = pd.Series(Variacao_k)\n",
        "data_modelo_Solow_choque_1"
      ],
      "metadata": {
        "colab": {
          "base_uri": "https://localhost:8080/",
          "height": 424
        },
        "id": "DVlemhjBrffD",
        "outputId": "82390207-98f5-410b-84c4-3364db104a5b"
      },
      "execution_count": 78,
      "outputs": [
        {
          "output_type": "execute_result",
          "data": {
            "text/plain": [
              "     Tempo           k           y           C           S  \\\n",
              "0        0   50.000000  194.018102  135.812671   58.205431   \n",
              "1        1   99.205431  238.293329  166.805330   71.487999   \n",
              "2        2  152.836452  271.280973  189.896681   81.384292   \n",
              "3        3  206.710182  297.002299  207.901609   89.100690   \n",
              "4        4  258.603039  317.644498  222.351149   95.293350   \n",
              "..     ...         ...         ...         ...         ...   \n",
              "296    296  719.685673  431.811404  302.267983  129.543421   \n",
              "297    297  719.685673  431.811404  302.267983  129.543421   \n",
              "298    298  719.685673  431.811404  302.267983  129.543421   \n",
              "299    299  719.685673  431.811404  302.267983  129.543421   \n",
              "300    300  719.685673  431.811404  302.267983  129.543421   \n",
              "\n",
              "     Taxa de Variação do K  \n",
              "0             4.920543e+01  \n",
              "1             5.363102e+01  \n",
              "2             5.387373e+01  \n",
              "3             5.189286e+01  \n",
              "4             4.874480e+01  \n",
              "..                     ...  \n",
              "296           5.684342e-14  \n",
              "297           5.684342e-14  \n",
              "298           5.684342e-14  \n",
              "299           5.684342e-14  \n",
              "300           5.684342e-14  \n",
              "\n",
              "[301 rows x 6 columns]"
            ],
            "text/html": [
              "\n",
              "  <div id=\"df-8ddd98f6-a3b5-42dc-b1d6-99edb14be5ff\">\n",
              "    <div class=\"colab-df-container\">\n",
              "      <div>\n",
              "<style scoped>\n",
              "    .dataframe tbody tr th:only-of-type {\n",
              "        vertical-align: middle;\n",
              "    }\n",
              "\n",
              "    .dataframe tbody tr th {\n",
              "        vertical-align: top;\n",
              "    }\n",
              "\n",
              "    .dataframe thead th {\n",
              "        text-align: right;\n",
              "    }\n",
              "</style>\n",
              "<table border=\"1\" class=\"dataframe\">\n",
              "  <thead>\n",
              "    <tr style=\"text-align: right;\">\n",
              "      <th></th>\n",
              "      <th>Tempo</th>\n",
              "      <th>k</th>\n",
              "      <th>y</th>\n",
              "      <th>C</th>\n",
              "      <th>S</th>\n",
              "      <th>Taxa de Variação do K</th>\n",
              "    </tr>\n",
              "  </thead>\n",
              "  <tbody>\n",
              "    <tr>\n",
              "      <th>0</th>\n",
              "      <td>0</td>\n",
              "      <td>50.000000</td>\n",
              "      <td>194.018102</td>\n",
              "      <td>135.812671</td>\n",
              "      <td>58.205431</td>\n",
              "      <td>4.920543e+01</td>\n",
              "    </tr>\n",
              "    <tr>\n",
              "      <th>1</th>\n",
              "      <td>1</td>\n",
              "      <td>99.205431</td>\n",
              "      <td>238.293329</td>\n",
              "      <td>166.805330</td>\n",
              "      <td>71.487999</td>\n",
              "      <td>5.363102e+01</td>\n",
              "    </tr>\n",
              "    <tr>\n",
              "      <th>2</th>\n",
              "      <td>2</td>\n",
              "      <td>152.836452</td>\n",
              "      <td>271.280973</td>\n",
              "      <td>189.896681</td>\n",
              "      <td>81.384292</td>\n",
              "      <td>5.387373e+01</td>\n",
              "    </tr>\n",
              "    <tr>\n",
              "      <th>3</th>\n",
              "      <td>3</td>\n",
              "      <td>206.710182</td>\n",
              "      <td>297.002299</td>\n",
              "      <td>207.901609</td>\n",
              "      <td>89.100690</td>\n",
              "      <td>5.189286e+01</td>\n",
              "    </tr>\n",
              "    <tr>\n",
              "      <th>4</th>\n",
              "      <td>4</td>\n",
              "      <td>258.603039</td>\n",
              "      <td>317.644498</td>\n",
              "      <td>222.351149</td>\n",
              "      <td>95.293350</td>\n",
              "      <td>4.874480e+01</td>\n",
              "    </tr>\n",
              "    <tr>\n",
              "      <th>...</th>\n",
              "      <td>...</td>\n",
              "      <td>...</td>\n",
              "      <td>...</td>\n",
              "      <td>...</td>\n",
              "      <td>...</td>\n",
              "      <td>...</td>\n",
              "    </tr>\n",
              "    <tr>\n",
              "      <th>296</th>\n",
              "      <td>296</td>\n",
              "      <td>719.685673</td>\n",
              "      <td>431.811404</td>\n",
              "      <td>302.267983</td>\n",
              "      <td>129.543421</td>\n",
              "      <td>5.684342e-14</td>\n",
              "    </tr>\n",
              "    <tr>\n",
              "      <th>297</th>\n",
              "      <td>297</td>\n",
              "      <td>719.685673</td>\n",
              "      <td>431.811404</td>\n",
              "      <td>302.267983</td>\n",
              "      <td>129.543421</td>\n",
              "      <td>5.684342e-14</td>\n",
              "    </tr>\n",
              "    <tr>\n",
              "      <th>298</th>\n",
              "      <td>298</td>\n",
              "      <td>719.685673</td>\n",
              "      <td>431.811404</td>\n",
              "      <td>302.267983</td>\n",
              "      <td>129.543421</td>\n",
              "      <td>5.684342e-14</td>\n",
              "    </tr>\n",
              "    <tr>\n",
              "      <th>299</th>\n",
              "      <td>299</td>\n",
              "      <td>719.685673</td>\n",
              "      <td>431.811404</td>\n",
              "      <td>302.267983</td>\n",
              "      <td>129.543421</td>\n",
              "      <td>5.684342e-14</td>\n",
              "    </tr>\n",
              "    <tr>\n",
              "      <th>300</th>\n",
              "      <td>300</td>\n",
              "      <td>719.685673</td>\n",
              "      <td>431.811404</td>\n",
              "      <td>302.267983</td>\n",
              "      <td>129.543421</td>\n",
              "      <td>5.684342e-14</td>\n",
              "    </tr>\n",
              "  </tbody>\n",
              "</table>\n",
              "<p>301 rows × 6 columns</p>\n",
              "</div>\n",
              "      <button class=\"colab-df-convert\" onclick=\"convertToInteractive('df-8ddd98f6-a3b5-42dc-b1d6-99edb14be5ff')\"\n",
              "              title=\"Convert this dataframe to an interactive table.\"\n",
              "              style=\"display:none;\">\n",
              "        \n",
              "  <svg xmlns=\"http://www.w3.org/2000/svg\" height=\"24px\"viewBox=\"0 0 24 24\"\n",
              "       width=\"24px\">\n",
              "    <path d=\"M0 0h24v24H0V0z\" fill=\"none\"/>\n",
              "    <path d=\"M18.56 5.44l.94 2.06.94-2.06 2.06-.94-2.06-.94-.94-2.06-.94 2.06-2.06.94zm-11 1L8.5 8.5l.94-2.06 2.06-.94-2.06-.94L8.5 2.5l-.94 2.06-2.06.94zm10 10l.94 2.06.94-2.06 2.06-.94-2.06-.94-.94-2.06-.94 2.06-2.06.94z\"/><path d=\"M17.41 7.96l-1.37-1.37c-.4-.4-.92-.59-1.43-.59-.52 0-1.04.2-1.43.59L10.3 9.45l-7.72 7.72c-.78.78-.78 2.05 0 2.83L4 21.41c.39.39.9.59 1.41.59.51 0 1.02-.2 1.41-.59l7.78-7.78 2.81-2.81c.8-.78.8-2.07 0-2.86zM5.41 20L4 18.59l7.72-7.72 1.47 1.35L5.41 20z\"/>\n",
              "  </svg>\n",
              "      </button>\n",
              "      \n",
              "  <style>\n",
              "    .colab-df-container {\n",
              "      display:flex;\n",
              "      flex-wrap:wrap;\n",
              "      gap: 12px;\n",
              "    }\n",
              "\n",
              "    .colab-df-convert {\n",
              "      background-color: #E8F0FE;\n",
              "      border: none;\n",
              "      border-radius: 50%;\n",
              "      cursor: pointer;\n",
              "      display: none;\n",
              "      fill: #1967D2;\n",
              "      height: 32px;\n",
              "      padding: 0 0 0 0;\n",
              "      width: 32px;\n",
              "    }\n",
              "\n",
              "    .colab-df-convert:hover {\n",
              "      background-color: #E2EBFA;\n",
              "      box-shadow: 0px 1px 2px rgba(60, 64, 67, 0.3), 0px 1px 3px 1px rgba(60, 64, 67, 0.15);\n",
              "      fill: #174EA6;\n",
              "    }\n",
              "\n",
              "    [theme=dark] .colab-df-convert {\n",
              "      background-color: #3B4455;\n",
              "      fill: #D2E3FC;\n",
              "    }\n",
              "\n",
              "    [theme=dark] .colab-df-convert:hover {\n",
              "      background-color: #434B5C;\n",
              "      box-shadow: 0px 1px 3px 1px rgba(0, 0, 0, 0.15);\n",
              "      filter: drop-shadow(0px 1px 2px rgba(0, 0, 0, 0.3));\n",
              "      fill: #FFFFFF;\n",
              "    }\n",
              "  </style>\n",
              "\n",
              "      <script>\n",
              "        const buttonEl =\n",
              "          document.querySelector('#df-8ddd98f6-a3b5-42dc-b1d6-99edb14be5ff button.colab-df-convert');\n",
              "        buttonEl.style.display =\n",
              "          google.colab.kernel.accessAllowed ? 'block' : 'none';\n",
              "\n",
              "        async function convertToInteractive(key) {\n",
              "          const element = document.querySelector('#df-8ddd98f6-a3b5-42dc-b1d6-99edb14be5ff');\n",
              "          const dataTable =\n",
              "            await google.colab.kernel.invokeFunction('convertToInteractive',\n",
              "                                                     [key], {});\n",
              "          if (!dataTable) return;\n",
              "\n",
              "          const docLinkHtml = 'Like what you see? Visit the ' +\n",
              "            '<a target=\"_blank\" href=https://colab.research.google.com/notebooks/data_table.ipynb>data table notebook</a>'\n",
              "            + ' to learn more about interactive tables.';\n",
              "          element.innerHTML = '';\n",
              "          dataTable['output_type'] = 'display_data';\n",
              "          await google.colab.output.renderOutput(dataTable, element);\n",
              "          const docLink = document.createElement('div');\n",
              "          docLink.innerHTML = docLinkHtml;\n",
              "          element.appendChild(docLink);\n",
              "        }\n",
              "      </script>\n",
              "    </div>\n",
              "  </div>\n",
              "  "
            ]
          },
          "metadata": {},
          "execution_count": 78
        }
      ]
    },
    {
      "cell_type": "code",
      "source": [
        "# Plotando o gráfico do k no decorrer do tempo \n",
        "sns.set()\n",
        "sns.set(rc={\"figure.figsize\":(10, 4)})\n",
        "sns.lineplot(data = data_modelo_Solow_choque_1, x = 'Tempo', y = 'k', color = 'red', linewidth = 3, zorder = 2)\n",
        "plt.title('Simulação Computacional do k no Modelo de Solow em função do Tempo.\\nFeito por Luiz Mario.', loc='center')"
      ],
      "metadata": {
        "colab": {
          "base_uri": "https://localhost:8080/",
          "height": 333
        },
        "id": "YeDcHRyIsOpY",
        "outputId": "2e35f00b-f67c-46b9-aa89-331ef89ff278"
      },
      "execution_count": 80,
      "outputs": [
        {
          "output_type": "execute_result",
          "data": {
            "text/plain": [
              "Text(0.5, 1.0, 'Simulação Computacional do k no Modelo de Solow em função do Tempo.\\nFeito por Luiz Mario.')"
            ]
          },
          "metadata": {},
          "execution_count": 80
        },
        {
          "output_type": "display_data",
          "data": {
            "text/plain": [
              "<Figure size 720x288 with 1 Axes>"
            ],
            "image/png": "[encoded data removed]"
          },
          "metadata": {}
        }
      ]
    },
    {
      "cell_type": "code",
      "source": [
        "# Plotando o gráfico do k no decorrer do tempo \n",
        "sns.set()\n",
        "sns.set(rc={\"figure.figsize\":(10, 4)})\n",
        "sns.lineplot(data = data_modelo_Solow_choque_1, x = 'Tempo', y = 'y', color = 'blue', linewidth = 3, zorder = 2)\n",
        "plt.title('Simulação Computacional do y no Modelo de Solow em função do Tempo.\\nFeito por Luiz Mario.', loc='center')"
      ],
      "metadata": {
        "colab": {
          "base_uri": "https://localhost:8080/",
          "height": 333
        },
        "id": "7qXLw_nOsO1C",
        "outputId": "cdc427f2-059c-44f7-bee0-7fd7c2484809"
      },
      "execution_count": 170,
      "outputs": [
        {
          "output_type": "execute_result",
          "data": {
            "text/plain": [
              "Text(0.5, 1.0, 'Simulação Computacional do y no Modelo de Solow em função do Tempo.\\nFeito por Luiz Mario.')"
            ]
          },
          "metadata": {},
          "execution_count": 170
        },
        {
          "output_type": "display_data",
          "data": {
            "text/plain": [
              "<Figure size 720x288 with 1 Axes>"
            ],
            "image/png": "[encoded data removed]"
          },
          "metadata": {}
        }
      ]
    },
    {
      "cell_type": "markdown",
      "source": [
        "## $s = 0,60$"
      ],
      "metadata": {
        "id": "LvcYvj5SseDU"
      }
    },
    {
      "cell_type": "code",
      "source": [
        "# Definindo os parâmetros \n",
        "A = 60 #Produtividade total dos fatores\n",
        "s = 0.60 #Propensão marginal a poupar \n",
        "delta = 0.08 #Depreciação \n",
        "mu = 0.1 # Taxa de Crescimento Populacional\n",
        "alfa = 0.3"
      ],
      "metadata": {
        "id": "BYqHR5PBshO9"
      },
      "execution_count": 5,
      "outputs": []
    },
    {
      "cell_type": "code",
      "source": [
        "#Criando matrizes e arrays para as variáveis \n",
        "# Array do Tempo\n",
        "Tempo = np.array(np.arange(0,301)) #Essa operação cria um array em uma operação que vai de 0 até o tempo final em um passso de um a um\n",
        "\n",
        "# Inicialmente criaremos uma matriz de zeros para cada componente da simulação, iremos preencher elas com suas operações no bloco seguinte\n",
        "\n",
        "# Matriz do k \n",
        "k = np.zeros([301,1],float)\n",
        "# Matriz do y \n",
        "y = np.zeros([301,1],float)\n",
        "# Matriz do c\n",
        "C = np.zeros([301,1],float)\n",
        "# Matriz do S\n",
        "S = np.zeros([301,1],float)\n",
        "# Matriz da Variação do k\n",
        "Variacao_k = np.zeros([301,1],float)"
      ],
      "metadata": {
        "id": "fMa3a74Zsha0"
      },
      "execution_count": 6,
      "outputs": []
    },
    {
      "cell_type": "code",
      "source": [
        "# Com as matrizes definidas, podemos preencher elas usando loops for \n",
        "for x in range(0,301):                                     # Loop geral para as operações, esse loop coordena que todas elas operem para cada valor do i\n",
        "  for i in range(0,300):                                   \n",
        "    k[i] = 50.0                                            #Configurando o nosso k inicial para 50\n",
        "    k_novo = np.copy(k)                                    #criando uma nova matriz copiada da matriz com o k inicial correto\n",
        "  for i in range(1,301):                                   #Como o zero já esta definido, aqui iniciamos a partir do 1\n",
        "    k_novo[i] = k[i-1] + Variacao_k[i-1]                   #Usando a nova matriz criada anteriormente e aplicando os novos valores \n",
        "    k = np.copy(k_novo)                                    #voltando para a matriz k \n",
        "# Loop para definir a variação do k \n",
        "  for i in range(0,301):\n",
        "    Variacao_k[i] = y[i]*s - (delta + mu)*k[i]\n",
        "# Loop para definir o y \n",
        "  for i in range(0,301):\n",
        "    y[i] = A*(np.power(k[i],alfa))\n",
        "# Loop para definir o C \n",
        "  for i in range(0,301):\n",
        "    C[i] = y[i]*(1 - s)\n",
        "# Loop para definir o S\n",
        "  for i in range(0,301):\n",
        "    S[i] = y[i]*s"
      ],
      "metadata": {
        "id": "Inyw-dQkshiy"
      },
      "execution_count": 8,
      "outputs": []
    },
    {
      "cell_type": "code",
      "source": [
        "# Transformando todas as nossas varíaveis calculadas antes em arrays \n",
        "k = np.array(k)\n",
        "y = np.array(y)\n",
        "C = np.array(C)\n",
        "S = np.array(S)\n",
        "Variacao_k = np.array(Variacao_k)\n",
        "print(k.ndim)"
      ],
      "metadata": {
        "colab": {
          "base_uri": "https://localhost:8080/"
        },
        "id": "v0OBJCuAshmo",
        "outputId": "dab3e4d2-3045-4c83-e45f-902f6bf438ee"
      },
      "execution_count": 9,
      "outputs": [
        {
          "output_type": "stream",
          "name": "stdout",
          "text": [
            "2\n"
          ]
        }
      ]
    },
    {
      "cell_type": "code",
      "source": [
        "# Como nossos arrays são bidimensionais precisamos fazer um reshape de 2D para 1D\n",
        "# Usando o comando reshape \n",
        "k = np.reshape(k,301)\n",
        "y = np.reshape(y,301)\n",
        "C = np.reshape(C,301)\n",
        "S = np.reshape(S,301)\n",
        "Variacao_k = np.reshape(Variacao_k,301)"
      ],
      "metadata": {
        "id": "McU-GW39Xe4j"
      },
      "execution_count": 11,
      "outputs": []
    },
    {
      "cell_type": "code",
      "source": [
        "# Criando o dataframe com um dicionário para as colunas já definidas\n",
        "data_modelo_Solow_choque_2 = pd.DataFrame(index = Tempo)\n",
        "data_modelo_Solow_choque_2[\"Tempo\"] = pd.Series(Tempo)\n",
        "data_modelo_Solow_choque_2[\"k\"] = pd.Series(k)\n",
        "data_modelo_Solow_choque_2[\"y\"] = pd.Series(y)\n",
        "data_modelo_Solow_choque_2[\"C\"] = pd.Series(C)\n",
        "data_modelo_Solow_choque_2[\"S\"] = pd.Series(S)\n",
        "data_modelo_Solow_choque_2[\"Taxa de Variação do K\"] = pd.Series(Variacao_k)\n",
        "data_modelo_Solow_choque_2"
      ],
      "metadata": {
        "colab": {
          "base_uri": "https://localhost:8080/",
          "height": 424
        },
        "id": "Ne3OgykAsiAO",
        "outputId": "bcbdb043-66eb-43f4-d882-6338a312a031"
      },
      "execution_count": 12,
      "outputs": [
        {
          "output_type": "execute_result",
          "data": {
            "text/plain": [
              "     Tempo            k           y           C           S  \\\n",
              "0        0    50.000000  194.018102   77.607241  116.410861   \n",
              "1        1   157.410861  273.691720  109.476688  164.215032   \n",
              "2        2   293.291938  329.868836  131.947534  197.921302   \n",
              "3        3   438.420691  372.150462  148.860185  223.290277   \n",
              "4        4   582.795244  405.327481  162.130993  243.196489   \n",
              "..     ...          ...         ...         ...         ...   \n",
              "296    296  1937.250172  581.175052  232.470021  348.705031   \n",
              "297    297  1937.250172  581.175052  232.470021  348.705031   \n",
              "298    298  1937.250172  581.175052  232.470021  348.705031   \n",
              "299    299  1937.250172  581.175052  232.470021  348.705031   \n",
              "300    300  1937.250172  581.175052  232.470021  348.705031   \n",
              "\n",
              "     Taxa de Variação do K  \n",
              "0             1.074109e+02  \n",
              "1             1.358811e+02  \n",
              "2             1.451288e+02  \n",
              "3             1.443746e+02  \n",
              "4             1.382933e+02  \n",
              "..                     ...  \n",
              "296           1.136868e-13  \n",
              "297           1.136868e-13  \n",
              "298           1.136868e-13  \n",
              "299           1.136868e-13  \n",
              "300           1.136868e-13  \n",
              "\n",
              "[301 rows x 6 columns]"
            ],
            "text/html": [
              "\n",
              "  <div id=\"df-6ad5d5b3-9bf9-4da1-8c49-05384d587190\">\n",
              "    <div class=\"colab-df-container\">\n",
              "      <div>\n",
              "<style scoped>\n",
              "    .dataframe tbody tr th:only-of-type {\n",
              "        vertical-align: middle;\n",
              "    }\n",
              "\n",
              "    .dataframe tbody tr th {\n",
              "        vertical-align: top;\n",
              "    }\n",
              "\n",
              "    .dataframe thead th {\n",
              "        text-align: right;\n",
              "    }\n",
              "</style>\n",
              "<table border=\"1\" class=\"dataframe\">\n",
              "  <thead>\n",
              "    <tr style=\"text-align: right;\">\n",
              "      <th></th>\n",
              "      <th>Tempo</th>\n",
              "      <th>k</th>\n",
              "      <th>y</th>\n",
              "      <th>C</th>\n",
              "      <th>S</th>\n",
              "      <th>Taxa de Variação do K</th>\n",
              "    </tr>\n",
              "  </thead>\n",
              "  <tbody>\n",
              "    <tr>\n",
              "      <th>0</th>\n",
              "      <td>0</td>\n",
              "      <td>50.000000</td>\n",
              "      <td>194.018102</td>\n",
              "      <td>77.607241</td>\n",
              "      <td>116.410861</td>\n",
              "      <td>1.074109e+02</td>\n",
              "    </tr>\n",
              "    <tr>\n",
              "      <th>1</th>\n",
              "      <td>1</td>\n",
              "      <td>157.410861</td>\n",
              "      <td>273.691720</td>\n",
              "      <td>109.476688</td>\n",
              "      <td>164.215032</td>\n",
              "      <td>1.358811e+02</td>\n",
              "    </tr>\n",
              "    <tr>\n",
              "      <th>2</th>\n",
              "      <td>2</td>\n",
              "      <td>293.291938</td>\n",
              "      <td>329.868836</td>\n",
              "      <td>131.947534</td>\n",
              "      <td>197.921302</td>\n",
              "      <td>1.451288e+02</td>\n",
              "    </tr>\n",
              "    <tr>\n",
              "      <th>3</th>\n",
              "      <td>3</td>\n",
              "      <td>438.420691</td>\n",
              "      <td>372.150462</td>\n",
              "      <td>148.860185</td>\n",
              "      <td>223.290277</td>\n",
              "      <td>1.443746e+02</td>\n",
              "    </tr>\n",
              "    <tr>\n",
              "      <th>4</th>\n",
              "      <td>4</td>\n",
              "      <td>582.795244</td>\n",
              "      <td>405.327481</td>\n",
              "      <td>162.130993</td>\n",
              "      <td>243.196489</td>\n",
              "      <td>1.382933e+02</td>\n",
              "    </tr>\n",
              "    <tr>\n",
              "      <th>...</th>\n",
              "      <td>...</td>\n",
              "      <td>...</td>\n",
              "      <td>...</td>\n",
              "      <td>...</td>\n",
              "      <td>...</td>\n",
              "      <td>...</td>\n",
              "    </tr>\n",
              "    <tr>\n",
              "      <th>296</th>\n",
              "      <td>296</td>\n",
              "      <td>1937.250172</td>\n",
              "      <td>581.175052</td>\n",
              "      <td>232.470021</td>\n",
              "      <td>348.705031</td>\n",
              "      <td>1.136868e-13</td>\n",
              "    </tr>\n",
              "    <tr>\n",
              "      <th>297</th>\n",
              "      <td>297</td>\n",
              "      <td>1937.250172</td>\n",
              "      <td>581.175052</td>\n",
              "      <td>232.470021</td>\n",
              "      <td>348.705031</td>\n",
              "      <td>1.136868e-13</td>\n",
              "    </tr>\n",
              "    <tr>\n",
              "      <th>298</th>\n",
              "      <td>298</td>\n",
              "      <td>1937.250172</td>\n",
              "      <td>581.175052</td>\n",
              "      <td>232.470021</td>\n",
              "      <td>348.705031</td>\n",
              "      <td>1.136868e-13</td>\n",
              "    </tr>\n",
              "    <tr>\n",
              "      <th>299</th>\n",
              "      <td>299</td>\n",
              "      <td>1937.250172</td>\n",
              "      <td>581.175052</td>\n",
              "      <td>232.470021</td>\n",
              "      <td>348.705031</td>\n",
              "      <td>1.136868e-13</td>\n",
              "    </tr>\n",
              "    <tr>\n",
              "      <th>300</th>\n",
              "      <td>300</td>\n",
              "      <td>1937.250172</td>\n",
              "      <td>581.175052</td>\n",
              "      <td>232.470021</td>\n",
              "      <td>348.705031</td>\n",
              "      <td>1.136868e-13</td>\n",
              "    </tr>\n",
              "  </tbody>\n",
              "</table>\n",
              "<p>301 rows × 6 columns</p>\n",
              "</div>\n",
              "      <button class=\"colab-df-convert\" onclick=\"convertToInteractive('df-6ad5d5b3-9bf9-4da1-8c49-05384d587190')\"\n",
              "              title=\"Convert this dataframe to an interactive table.\"\n",
              "              style=\"display:none;\">\n",
              "        \n",
              "  <svg xmlns=\"http://www.w3.org/2000/svg\" height=\"24px\"viewBox=\"0 0 24 24\"\n",
              "       width=\"24px\">\n",
              "    <path d=\"M0 0h24v24H0V0z\" fill=\"none\"/>\n",
              "    <path d=\"M18.56 5.44l.94 2.06.94-2.06 2.06-.94-2.06-.94-.94-2.06-.94 2.06-2.06.94zm-11 1L8.5 8.5l.94-2.06 2.06-.94-2.06-.94L8.5 2.5l-.94 2.06-2.06.94zm10 10l.94 2.06.94-2.06 2.06-.94-2.06-.94-.94-2.06-.94 2.06-2.06.94z\"/><path d=\"M17.41 7.96l-1.37-1.37c-.4-.4-.92-.59-1.43-.59-.52 0-1.04.2-1.43.59L10.3 9.45l-7.72 7.72c-.78.78-.78 2.05 0 2.83L4 21.41c.39.39.9.59 1.41.59.51 0 1.02-.2 1.41-.59l7.78-7.78 2.81-2.81c.8-.78.8-2.07 0-2.86zM5.41 20L4 18.59l7.72-7.72 1.47 1.35L5.41 20z\"/>\n",
              "  </svg>\n",
              "      </button>\n",
              "      \n",
              "  <style>\n",
              "    .colab-df-container {\n",
              "      display:flex;\n",
              "      flex-wrap:wrap;\n",
              "      gap: 12px;\n",
              "    }\n",
              "\n",
              "    .colab-df-convert {\n",
              "      background-color: #E8F0FE;\n",
              "      border: none;\n",
              "      border-radius: 50%;\n",
              "      cursor: pointer;\n",
              "      display: none;\n",
              "      fill: #1967D2;\n",
              "      height: 32px;\n",
              "      padding: 0 0 0 0;\n",
              "      width: 32px;\n",
              "    }\n",
              "\n",
              "    .colab-df-convert:hover {\n",
              "      background-color: #E2EBFA;\n",
              "      box-shadow: 0px 1px 2px rgba(60, 64, 67, 0.3), 0px 1px 3px 1px rgba(60, 64, 67, 0.15);\n",
              "      fill: #174EA6;\n",
              "    }\n",
              "\n",
              "    [theme=dark] .colab-df-convert {\n",
              "      background-color: #3B4455;\n",
              "      fill: #D2E3FC;\n",
              "    }\n",
              "\n",
              "    [theme=dark] .colab-df-convert:hover {\n",
              "      background-color: #434B5C;\n",
              "      box-shadow: 0px 1px 3px 1px rgba(0, 0, 0, 0.15);\n",
              "      filter: drop-shadow(0px 1px 2px rgba(0, 0, 0, 0.3));\n",
              "      fill: #FFFFFF;\n",
              "    }\n",
              "  </style>\n",
              "\n",
              "      <script>\n",
              "        const buttonEl =\n",
              "          document.querySelector('#df-6ad5d5b3-9bf9-4da1-8c49-05384d587190 button.colab-df-convert');\n",
              "        buttonEl.style.display =\n",
              "          google.colab.kernel.accessAllowed ? 'block' : 'none';\n",
              "\n",
              "        async function convertToInteractive(key) {\n",
              "          const element = document.querySelector('#df-6ad5d5b3-9bf9-4da1-8c49-05384d587190');\n",
              "          const dataTable =\n",
              "            await google.colab.kernel.invokeFunction('convertToInteractive',\n",
              "                                                     [key], {});\n",
              "          if (!dataTable) return;\n",
              "\n",
              "          const docLinkHtml = 'Like what you see? Visit the ' +\n",
              "            '<a target=\"_blank\" href=https://colab.research.google.com/notebooks/data_table.ipynb>data table notebook</a>'\n",
              "            + ' to learn more about interactive tables.';\n",
              "          element.innerHTML = '';\n",
              "          dataTable['output_type'] = 'display_data';\n",
              "          await google.colab.output.renderOutput(dataTable, element);\n",
              "          const docLink = document.createElement('div');\n",
              "          docLink.innerHTML = docLinkHtml;\n",
              "          element.appendChild(docLink);\n",
              "        }\n",
              "      </script>\n",
              "    </div>\n",
              "  </div>\n",
              "  "
            ]
          },
          "metadata": {},
          "execution_count": 12
        }
      ]
    },
    {
      "cell_type": "code",
      "source": [
        "# Plotando o gráfico do k no decorrer do tempo \n",
        "sns.set()\n",
        "sns.set(rc={\"figure.figsize\":(10, 4)})\n",
        "sns.lineplot(data = data_modelo_Solow_choque_2, x = 'Tempo', y = 'k', color = 'red', linewidth = 3, zorder = 2)\n",
        "plt.title('Simulação Computacional do k no Modelo de Solow em função do Tempo.\\nFeito por Luiz Mario.', loc='center')"
      ],
      "metadata": {
        "colab": {
          "base_uri": "https://localhost:8080/",
          "height": 333
        },
        "id": "jOuGy1J9W_6I",
        "outputId": "18d8b169-9db6-4a51-cc73-244511b1b285"
      },
      "execution_count": 14,
      "outputs": [
        {
          "output_type": "execute_result",
          "data": {
            "text/plain": [
              "Text(0.5, 1.0, 'Simulação Computacional do k no Modelo de Solow em função do Tempo.\\nFeito por Luiz Mario.')"
            ]
          },
          "metadata": {},
          "execution_count": 14
        },
        {
          "output_type": "display_data",
          "data": {
            "text/plain": [
              "<Figure size 720x288 with 1 Axes>"
            ],
            "image/png": "[encoded data removed]"
          },
          "metadata": {}
        }
      ]
    },
    {
      "cell_type": "code",
      "source": [
        "# Plotando o gráfico do k no decorrer do tempo \n",
        "sns.set()\n",
        "sns.set(rc={\"figure.figsize\":(10, 4)})\n",
        "sns.lineplot(data = data_modelo_Solow_choque_2, x = 'Tempo', y = 'y', color = 'blue', linewidth = 3, zorder = 2)\n",
        "plt.title('Simulação Computacional do y no Modelo de Solow em função do Tempo.\\nFeito por Luiz Mario.', loc='center')"
      ],
      "metadata": {
        "colab": {
          "base_uri": "https://localhost:8080/",
          "height": 333
        },
        "id": "3U0TJ_GxXAKZ",
        "outputId": "d9bb9b2a-07ca-4d8f-e6d7-050522d2322b"
      },
      "execution_count": 15,
      "outputs": [
        {
          "output_type": "execute_result",
          "data": {
            "text/plain": [
              "Text(0.5, 1.0, 'Simulação Computacional do y no Modelo de Solow em função do Tempo.\\nFeito por Luiz Mario.')"
            ]
          },
          "metadata": {},
          "execution_count": 15
        },
        {
          "output_type": "display_data",
          "data": {
            "text/plain": [
              "<Figure size 720x288 with 1 Axes>"
            ],
            "image/png": "[encoded data removed]"
          },
          "metadata": {}
        }
      ]
    },
    {
      "cell_type": "markdown",
      "source": [
        "## Simulação Dinâmica \n",
        "Aqui não há parâmetros fixos, todos eles são variáveis e podem ser escolhidos como valores de entrada. Porém, é necessário dizer que é só 1 valor para cada variável. "
      ],
      "metadata": {
        "id": "bP1T2RRAX2fb"
      }
    },
    {
      "cell_type": "code",
      "source": [
        "# Definindo os parâmetros - Agora eles serão valores de entrada, escolhidos pelo usuário\n",
        "# Todos os valores abaixo devem ser escritos em casas decimais pois são pontos flutuantes \n",
        "A = float(input(\"Digite o valor da Produtividade Total dos Fatores:\")) #Produtividade total dos fatores\n",
        "s = float(input(\"Digite o valor da Propensão Marginal a Poupar:\")) #Propensão marginal a poupar \n",
        "delta = float(input(\"Digite o valor referente à Depreciação:\")) #Depreciação \n",
        "mu = float(input(\"Digite o valor referente à Taxa de Crescimento Populacional:\")) # Taxa de Crescimento Populacional\n",
        "alfa = float(input(\"Digite o valor referente ao Alfa do modelo:\"))\n",
        "k_inicial = float(input(\"Digite o valor referente ao Capital per Capita inicial:\"))"
      ],
      "metadata": {
        "id": "w_MrGuAIYBdH"
      },
      "execution_count": null,
      "outputs": []
    },
    {
      "cell_type": "code",
      "source": [
        "#Criando matrizes e arrays para as variáveis \n",
        "# Array do Tempo\n",
        "Tempo = np.array(np.arange(0,301)) #Essa operação cria um array em uma operação que vai de 0 até o tempo final em um passso de um a um\n",
        "\n",
        "# Inicialmente criaremos uma matriz de zeros para cada componente da simulação, iremos preencher elas com suas operações no bloco seguinte\n",
        "\n",
        "# Matriz do k \n",
        "k = np.zeros([301,1],float)\n",
        "# Matriz do y \n",
        "y = np.zeros([301,1],float)\n",
        "# Matriz do c\n",
        "C = np.zeros([301,1],float)\n",
        "# Matriz do S\n",
        "S = np.zeros([301,1],float)\n",
        "# Matriz da Variação do k\n",
        "Variacao_k = np.zeros([301,1],float)"
      ],
      "metadata": {
        "id": "nzw7rAFTYBqx"
      },
      "execution_count": null,
      "outputs": []
    },
    {
      "cell_type": "code",
      "source": [
        "# Com as matrizes definidas, podemos preencher elas usando loops for \n",
        "for x in range(0,301):                                     # Loop geral para as operações, esse loop coordena que todas elas operem para cada valor do i\n",
        "  for i in range(0,300):                                   \n",
        "    k[i] = k_inicial                                       #Configurando o nosso k inicial para 50\n",
        "    k_novo = np.copy(k)                                    #criando uma nova matriz copiada da matriz com o k inicial correto\n",
        "  for i in range(1,301):                                   #Como o zero já esta definido, aqui iniciamos a partir do 1\n",
        "    k_novo[i] = k[i-1] + Variacao_k[i-1]                   #Usando a nova matriz criada anteriormente e aplicando os novos valores \n",
        "    k = np.copy(k_novo)                                    #voltando para a matriz k \n",
        "# Loop para definir a variação do k \n",
        "  for i in range(0,301):\n",
        "    Variacao_k[i] = y[i]*s - (delta + mu)*k[i]\n",
        "# Loop para definir o y \n",
        "  for i in range(0,301):\n",
        "    y[i] = A*(np.power(k[i],alfa))\n",
        "# Loop para definir o C \n",
        "  for i in range(0,301):\n",
        "    C[i] = y[i]*(1 - s)\n",
        "# Loop para definir o S\n",
        "  for i in range(0,301):\n",
        "    S[i] = y[i]*s"
      ],
      "metadata": {
        "id": "6XjMmtJ_YCM0"
      },
      "execution_count": null,
      "outputs": []
    },
    {
      "cell_type": "code",
      "source": [
        "# Transformando todas as nossas varíaveis calculadas antes em arrays \n",
        "k = np.array(k)\n",
        "y = np.array(y)\n",
        "C = np.array(C)\n",
        "S = np.array(S)\n",
        "Variacao_k = np.array(Variacao_k)\n",
        "print(k.ndim)"
      ],
      "metadata": {
        "id": "4rlFdQF2YCgR"
      },
      "execution_count": null,
      "outputs": []
    },
    {
      "cell_type": "code",
      "source": [
        "# Como nossos arrays são bidimensionais precisamos fazer um reshape de 2D para 1D\n",
        "# Usando o comando reshape \n",
        "k = np.reshape(k,301)\n",
        "y = np.reshape(y,301)\n",
        "C = np.reshape(C,301)\n",
        "S = np.reshape(S,301)\n",
        "Variacao_k = np.reshape(Variacao_k,301)"
      ],
      "metadata": {
        "id": "kGYrVpa-YCuu"
      },
      "execution_count": null,
      "outputs": []
    },
    {
      "cell_type": "code",
      "source": [
        "# Criando o dataframe com um dicionário para as colunas já definidas\n",
        "data_modelo_Solow_simulacao_dinamica = pd.DataFrame(index = Tempo)\n",
        "data_modelo_Solow_simulacao_dinamica[\"Tempo\"] = pd.Series(Tempo)\n",
        "data_modelo_Solow_simulacao_dinamica[\"k\"] = pd.Series(k)\n",
        "data_modelo_Solow_simulacao_dinamica[\"y\"] = pd.Series(y)\n",
        "data_modelo_Solow_simulacao_dinamica[\"C\"] = pd.Series(C)\n",
        "data_modelo_Solow_simulacao_dinamica[\"S\"] = pd.Series(S)\n",
        "data_modelo_Solow_simulacao_dinamica[\"Taxa de Variação do K\"] = pd.Series(Variacao_k)\n",
        "data_modelo_Solow_simulacao_dinamica"
      ],
      "metadata": {
        "id": "wiyvP6CcYC6u"
      },
      "execution_count": null,
      "outputs": []
    },
    {
      "cell_type": "code",
      "source": [
        "# Plotando o gráfico do k no decorrer do tempo \n",
        "sns.set()\n",
        "sns.set(rc={\"figure.figsize\":(10, 4)})\n",
        "sns.lineplot(data = data_modelo_Solow_simulacao_dinamica, x = 'Tempo', y = 'k', color = 'red', linewidth = 3, zorder = 2)\n",
        "plt.title('Simulação Computacional do k no Modelo de Solow em função do Tempo.\\nFeito por Luiz Mario.', loc='center')"
      ],
      "metadata": {
        "id": "mJgdLpOVYDGx"
      },
      "execution_count": null,
      "outputs": []
    },
    {
      "cell_type": "code",
      "source": [
        "# Plotando o gráfico do y no decorrer do tempo \n",
        "sns.set()\n",
        "sns.set(rc={\"figure.figsize\":(10, 4)})\n",
        "sns.lineplot(data = data_modelo_Solow_simulacao_dinamica, x = 'Tempo', y = 'y', color = 'blue', linewidth = 3, zorder = 2)\n",
        "plt.title('Simulação Computacional do y no Modelo de Solow em função do Tempo.\\nFeito por Luiz Mario.', loc='center')"
      ],
      "metadata": {
        "id": "lgAkRJAZYDk-"
      },
      "execution_count": null,
      "outputs": []
    },
    {
      "cell_type": "markdown",
      "source": [
        "## Brincando com choques.\n",
        "Antes de entrarmos nessa parte da simulação é importante explicar sobre o que ela se refere. \n",
        "\n",
        "Choque é por definição, tudo aquilo que desloca o $k$ do $k_{ss}$, deslocando ele do **Equilíbrio**.\n",
        "\n",
        "Equilíbrio em si, se refere ao ponto onde a variável não se altera no tempo, ela permanece constante. Matematicamente é quando a derivada dessa variável em relação ao tempo se anula. \n",
        "\n",
        "Existem dois tipos de equilíbrio:\n",
        "\n",
        "\n",
        "*   **Equilíbrio Estável**: Ocorre se depois do choque há retorno ao equilíbrio, isto é, ao $k_{ss}$. \n",
        "*   **Equilíbrio Instável**: É quando depois do choque não há retorno ao equilíbrio, criando um novo equilíbrio, um novo $k_{ss}$. \n",
        "\n"
      ],
      "metadata": {
        "id": "Lu8mTRZSqOtL"
      }
    },
    {
      "cell_type": "code",
      "source": [
        "# Para realizar esse choque, substituiremos no dataframe usado na primeira parte da simulação um valor específico abaixo do Estado Estacionário.\n",
        "# Para fazer isso basta olharmos no dataframe e substituirmos por qualquer valor após t = 50, isso é perceptível no gráfico \n",
        "# Substituindo vários valores pelo pandas na coluna do k com a ajuda de um loop for\n",
        "for i in range(50):\n",
        "  data_modelo_Solow.at[60 + i,'k'] = 100\n",
        "data_modelo_Solow"
      ],
      "metadata": {
        "id": "sDjFyCHKqlb5"
      },
      "execution_count": null,
      "outputs": []
    },
    {
      "cell_type": "code",
      "source": [
        "# Plotado o gráfico \n",
        "# Plotando o gráfico do k no decorrer do tempo \n",
        "sns.set()\n",
        "sns.set(rc={\"figure.figsize\":(10, 4)})\n",
        "sns.lineplot(data = data_modelo_Solow, x = 'Tempo', y = 'k', color = 'red', linewidth = 3, zorder = 2)\n",
        "plt.title('Simulação Computacional do k em um Choque Exógeno no Modelo de Solow em função do Tempo.\\nFeito por Luiz Mario.', loc='center')"
      ],
      "metadata": {
        "colab": {
          "base_uri": "https://localhost:8080/",
          "height": 333
        },
        "id": "MgYriOqCnBCP",
        "outputId": "5679015f-b0df-46d0-d6d0-073298245d77"
      },
      "execution_count": 64,
      "outputs": [
        {
          "output_type": "execute_result",
          "data": {
            "text/plain": [
              "Text(0.5, 1.0, 'Simulação Computacional do k em um Choque Exógeno no Modelo de Solow em função do Tempo.\\nFeito por Luiz Mario.')"
            ]
          },
          "metadata": {},
          "execution_count": 64
        },
        {
          "output_type": "display_data",
          "data": {
            "text/plain": [
              "<Figure size 720x288 with 1 Axes>"
            ],
            "image/png": "[encoded data removed]"
          },
          "metadata": {}
        }
      ]
    },
    {
      "cell_type": "code",
      "source": [
        "# O mesmo ocorre com o produto y \n",
        "# Substituindo vários valores pelo pandas na coluna do k\n",
        "for j in range(50):\n",
        "  data_modelo_Solow.at[60 + j,'y'] = 200"
      ],
      "metadata": {
        "id": "OqlNtIOXo90h"
      },
      "execution_count": 69,
      "outputs": []
    },
    {
      "cell_type": "code",
      "source": [
        "# Plotando o gráfico do k no decorrer do tempo \n",
        "sns.set()\n",
        "sns.set(rc={\"figure.figsize\":(10, 4)})\n",
        "sns.lineplot(data = data_modelo_Solow, x = 'Tempo', y = 'y', color = 'purple', linewidth = 3, zorder = 2)\n",
        "plt.title('Simulação Computacional do y em um Choque Exógeno no Modelo de Solow em função do Tempo.\\nFeito por Luiz Mario.', loc='center')"
      ],
      "metadata": {
        "colab": {
          "base_uri": "https://localhost:8080/",
          "height": 333
        },
        "id": "qmzN-BMuqDDf",
        "outputId": "885288db-28d7-4490-933f-4f07580ff1c4"
      },
      "execution_count": 70,
      "outputs": [
        {
          "output_type": "execute_result",
          "data": {
            "text/plain": [
              "Text(0.5, 1.0, 'Simulação Computacional do y em um Choque Exógeno no Modelo de Solow em função do Tempo.\\nFeito por Luiz Mario.')"
            ]
          },
          "metadata": {},
          "execution_count": 70
        },
        {
          "output_type": "display_data",
          "data": {
            "text/plain": [
              "<Figure size 720x288 with 1 Axes>"
            ],
            "image/png": "[encoded data removed]"
          },
          "metadata": {}
        }
      ]
    }
  ]
}